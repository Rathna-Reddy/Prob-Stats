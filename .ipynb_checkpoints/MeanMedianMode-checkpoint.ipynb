{
 "cells": [
  {
   "cell_type": "markdown",
   "id": "2c11a143",
   "metadata": {},
   "source": [
    "### Mean, Median and Mode"
   ]
  },
  {
   "cell_type": "markdown",
   "id": "6789848b",
   "metadata": {},
   "source": [
    "Lets create some fake income data, centered around 27,000 with a normal distrubution and standard deviation of 15,000 with 10,000 data points.\n",
    "Then, compute the mean (average) - it should be close to 27,000"
   ]
  },
  {
   "cell_type": "code",
   "execution_count": 1,
   "id": "524e5d97",
   "metadata": {},
   "outputs": [
    {
     "data": {
      "text/plain": [
       "27155.46886980505"
      ]
     },
     "execution_count": 1,
     "metadata": {},
     "output_type": "execute_result"
    }
   ],
   "source": [
    "import numpy as np\n",
    "\n",
    "incomes = np.random.normal(27000, 15000, 10000)\n",
    "\n",
    "np.mean(incomes)"
   ]
  },
  {
   "cell_type": "markdown",
   "id": "0b6b020f",
   "metadata": {},
   "source": [
    "We can segment the income data into 50 buckets, and plot it as a histogram:"
   ]
  },
  {
   "cell_type": "code",
   "execution_count": 2,
   "id": "9acae265",
   "metadata": {},
   "outputs": [
    {
     "data": {
      "image/png": "[encoded data removed]",
      "text/plain": [
       "<Figure size 640x480 with 1 Axes>"
      ]
     },
     "metadata": {},
     "output_type": "display_data"
    }
   ],
   "source": [
    "%matplotlib inline\n",
    "import matplotlib.pyplot as plt\n",
    "plt.hist(incomes, 50)\n",
    "plt.show()"
   ]
  },
  {
   "cell_type": "markdown",
   "id": "ca1954ac",
   "metadata": {},
   "source": [
    "Now compute the median - since we have a nice, even distribution it too should be close to 27,000:"
   ]
  },
  {
   "cell_type": "code",
   "execution_count": 3,
   "id": "3a1f5ce4",
   "metadata": {},
   "outputs": [
    {
     "data": {
      "text/plain": [
       "27083.5612990179"
      ]
     },
     "execution_count": 3,
     "metadata": {},
     "output_type": "execute_result"
    }
   ],
   "source": [
    "np.median(incomes)"
   ]
  },
  {
   "cell_type": "markdown",
   "id": "08fa53f8",
   "metadata": {},
   "source": [
    "Now we'll add Elon Musk into the mix. Darn income inequality!"
   ]
  },
  {
   "cell_type": "code",
   "execution_count": 4,
   "id": "ceb04b2f",
   "metadata": {},
   "outputs": [],
   "source": [
    "incomes = np.append(incomes, [1000000000])"
   ]
  },
  {
   "cell_type": "markdown",
   "id": "2772d1c5",
   "metadata": {},
   "source": [
    "The median won't change much, but the mean does:"
   ]
  },
  {
   "cell_type": "code",
   "execution_count": 5,
   "id": "e5e98ddf",
   "metadata": {},
   "outputs": [
    {
     "data": {
      "text/plain": [
       "27085.359337759022"
      ]
     },
     "execution_count": 5,
     "metadata": {},
     "output_type": "execute_result"
    }
   ],
   "source": [
    "np.median(incomes)"
   ]
  },
  {
   "cell_type": "code",
   "execution_count": 6,
   "id": "04e7bc9f",
   "metadata": {},
   "outputs": [
    {
     "data": {
      "text/plain": [
       "127142.75459434562"
      ]
     },
     "execution_count": 6,
     "metadata": {},
     "output_type": "execute_result"
    }
   ],
   "source": [
    "np.mean(incomes)"
   ]
  },
  {
   "cell_type": "markdown",
   "id": "23256d9d",
   "metadata": {},
   "source": [
    "From the above we can clearly see, how an outlier in a dataset can really mess up the mean or average value of the dataset.\n",
    "\n",
    "So, Median is less susceptible to outliers than the mean."
   ]
  },
  {
   "cell_type": "markdown",
   "id": "c673cc2e",
   "metadata": {},
   "source": [
    "### Mode"
   ]
  },
  {
   "cell_type": "markdown",
   "id": "1b149c34",
   "metadata": {},
   "source": [
    "Next, let's generate some fake age data for 500 people:"
   ]
  },
  {
   "cell_type": "code",
   "execution_count": 7,
   "id": "af58f1db",
   "metadata": {},
   "outputs": [
    {
     "data": {
      "text/plain": [
       "array([27, 64, 81, 72, 68, 80, 61, 28, 54, 48, 18, 76, 70, 50, 27, 79, 24,\n",
       "       27, 39, 76, 41, 33, 54, 20, 31, 25, 67, 26, 32, 69, 86, 38, 88, 69,\n",
       "       86, 49, 74, 84, 65, 43, 84, 56, 24, 83, 42, 18, 54, 35, 43, 27, 31,\n",
       "       22, 33, 69, 70, 74, 81, 77, 27, 72, 78, 45, 47, 62, 30, 39, 60, 52,\n",
       "       88, 55, 68, 46, 89, 59, 81, 77, 24, 88, 74, 49, 38, 20, 50, 44, 59,\n",
       "       27, 81, 23, 86, 24, 66, 47, 54, 69, 30, 69, 35, 75, 74, 42, 47, 53,\n",
       "       20, 70, 30, 58, 22, 50, 51, 75, 62, 28, 42, 60, 19, 39, 73, 30, 55,\n",
       "       65, 66, 72, 32, 68, 26, 68, 74, 30, 71, 31, 39, 51, 18, 35, 47, 79,\n",
       "       39, 67, 62, 51, 66, 89, 60, 62, 87, 53, 72, 74, 37, 81, 46, 45, 47,\n",
       "       22, 77, 44, 33, 59, 25, 22, 38, 83, 29, 80, 65, 22, 68, 28, 68, 43,\n",
       "       27, 57, 47, 25, 30, 53, 74, 43, 53, 87, 67, 22, 64, 20, 45, 21, 38,\n",
       "       82, 28, 58, 48, 27, 80, 34, 22, 56, 72, 79, 88, 20, 58, 83, 33, 80,\n",
       "       31, 20, 54, 37, 71, 21, 61, 40, 56, 76, 65, 69, 20, 27, 54, 34, 46,\n",
       "       34, 82, 46, 24, 73, 77, 34, 88, 80, 29, 19, 47, 65, 28, 43, 73, 86,\n",
       "       64, 45, 51, 89, 25, 58, 23, 81, 84, 31, 85, 52, 41, 77, 89, 65, 41,\n",
       "       89, 62, 86, 70, 84, 88, 48, 62, 83, 25, 44, 71, 32, 81, 68, 28, 42,\n",
       "       83, 83, 68, 56, 73, 23, 73, 36, 29, 43, 74, 84, 80, 38, 68, 36, 19,\n",
       "       26, 55, 45, 63, 51, 47, 52, 34, 20, 62, 73, 77, 63, 21, 31, 19, 65,\n",
       "       70, 23, 66, 35, 63, 58, 35, 41, 60, 62, 61, 81, 41, 54, 58, 70, 27,\n",
       "       61, 89, 32, 77, 68, 60, 55, 82, 72, 83, 73, 83, 61, 52, 32, 37, 42,\n",
       "       30, 56, 44, 60, 82, 50, 35, 69, 22, 22, 81, 87, 83, 55, 68, 27, 24,\n",
       "       89, 35, 82, 53, 26, 30, 85, 76, 29, 24, 89, 85, 48, 64, 28, 46, 71,\n",
       "       82, 86, 67, 36, 20, 42, 20, 71, 84, 71, 36, 78, 66, 69, 31, 29, 87,\n",
       "       89, 37, 87, 56, 46, 73, 29, 53, 82, 86, 84, 62, 21, 60, 58, 26, 18,\n",
       "       38, 36, 54, 27, 30, 20, 55, 67, 52, 54, 23, 51, 21, 73, 52, 60, 47,\n",
       "       54, 48, 38, 67, 72, 61, 20, 27, 57, 74, 83, 25, 79, 55, 75, 28, 83,\n",
       "       21, 20, 32, 76, 67, 51, 74, 77, 49, 70, 82, 23, 79, 37, 23, 67, 59,\n",
       "       49, 66, 76, 53, 84, 80, 86, 72, 85, 66, 89, 78, 30, 33, 41, 78, 87,\n",
       "       88, 27, 71, 62, 28, 29, 22, 32, 39, 49, 64, 66, 56, 63, 86, 30, 22,\n",
       "       87, 54, 19, 77, 72, 44, 38])"
      ]
     },
     "execution_count": 7,
     "metadata": {},
     "output_type": "execute_result"
    }
   ],
   "source": [
    "ages = np.random.randint(18, high=90, size=500)\n",
    "ages"
   ]
  },
  {
   "cell_type": "code",
   "execution_count": 8,
   "id": "c71f93cc",
   "metadata": {},
   "outputs": [
    {
     "name": "stderr",
     "output_type": "stream",
     "text": [
      "/var/folders/_y/99y031352j57_sw95y_w7rm80000gn/T/ipykernel_8063/482364684.py:3: FutureWarning: Unlike other reduction functions (e.g. `skew`, `kurtosis`), the default behavior of `mode` typically preserves the axis it acts along. In SciPy 1.11.0, this behavior will change: the default value of `keepdims` will become False, the `axis` over which the statistic is taken will be eliminated, and the value None will no longer be accepted. Set `keepdims` to True or False to avoid this warning.\n",
      "  stats.mode(ages)\n"
     ]
    },
    {
     "data": {
      "text/plain": [
       "ModeResult(mode=array([27]), count=array([14]))"
      ]
     },
     "execution_count": 8,
     "metadata": {},
     "output_type": "execute_result"
    }
   ],
   "source": [
    "from scipy import stats\n",
    "\n",
    "stats.mode(ages)"
   ]
  },
  {
   "cell_type": "code",
   "execution_count": null,
   "id": "b0155997",
   "metadata": {},
   "outputs": [],
   "source": []
  }
 ],
 "metadata": {
  "kernelspec": {
   "display_name": "Python (myenv)",
   "language": "python",
   "name": "myenv"
  },
  "language_info": {
   "codemirror_mode": {
    "name": "ipython",
    "version": 3
   },
   "file_extension": ".py",
   "mimetype": "text/x-python",
   "name": "python",
   "nbconvert_exporter": "python",
   "pygments_lexer": "ipython3",
   "version": "3.9.16"
  }
 },
 "nbformat": 4,
 "nbformat_minor": 5
}
